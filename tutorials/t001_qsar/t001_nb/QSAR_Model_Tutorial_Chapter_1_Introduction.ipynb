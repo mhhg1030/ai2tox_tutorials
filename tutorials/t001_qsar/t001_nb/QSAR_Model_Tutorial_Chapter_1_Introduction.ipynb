{
 "cells": [
  {
   "cell_type": "markdown",
   "metadata": {
    "id": "PET_FOpm6XwJ"
   },
   "source": [
    "# **1  Introduction**\n",
    "\n",
    "**Definition and Purpose**\n",
    "\n",
    "QSAR modeling is a computational technique that relates the chemical structure properties of compounds to their biological activities. By building a QSAR model, we can predict the bioactivity of new compounds based on their chemical structures.\n",
    "<br><br>\n",
    "\n",
    "**Descriptors** [1]\n",
    "\n",
    "Chemical descriptors are fundamental to QSAR modeling, and numerous types of descriptors representing different levels of chemical structure have been suggested over time.\n",
    "\n",
    "These levels range from the molecular formula (1D) to the widely used two-dimensional structural representation (2D), three-dimensional conformation-dependent structures (3D), and even higher levels that consider molecular orientation and time-dependent dynamics (4D and beyond).\n",
    "<br><br>\n",
    "\n",
    "**Application in Toxicology and Environmental Health** [2]\n",
    "\n",
    "QSAR models are integral to advancing the fields of Toxicology and Environmental Health. QSAR models provide a robust framework for predicting and interpreting the biological activities of compounds. This predictive power is essential in drug design for developing safer and more effective therapeutics by understanding the molecular fundamentals of biological properties. QSAR models are also increasingly used in risk assessments to reduce reliance on animal testing, supporting regulatory and safety evaluations.\n",
    "\n",
    "Overall, QSAR modeling offers a practical approach to evaluating chemical toxicity, providing insight into the molecular interactions and environmental behaviors of toxicants.\n",
    "<br><br>\n",
    "\n",
    "**Overview of QSAR Workflow** [3]\n",
    "\n",
    "The developing of a QSAR model has four basic steps:\n",
    "\n",
    "1.  **Data Preparation:** This step involves gathering a reliable dataset consisting of chemical structures and known biological activities or properties.  Care must be taken to ensure that the data are consistent and comparable, such as using the same experimental protocols across all compounds.\n",
    "\n",
    "2.  **Descriptor Calculation:** After collecting the data, molecular structures are determined and molecular descriptors are calculated.  These descriptors numerically represent the chemical properties of the compounds, and various software packages are used to generate hundreds of descriptors.\n",
    "\n",
    "3.  **Model Building:** The next step is to use mathematical or chemometric methods (e.g., multiple linear regression, principal component analysis, artificial neural networks) to build the QSAR model.  The method chosen correlates the descriptors with the biological activity or property of interest.\n",
    "\n",
    "4.  **Model Validation and Testing:** The final step is to test and validate the model using independent test sets, which are not used in the model-building process.  This ensures the model's robustness and accuracy.  Validation involves calculating statistical measures like correlation coefficients to evaluate the model's predictive performance"
   ]
  },
  {
   "cell_type": "markdown",
   "metadata": {
    "id": "lRzEx9GyS-jI"
   },
   "source": [
    "# **2  Simple QSAR Model Example**"
   ]
  },
  {
   "cell_type": "markdown",
   "metadata": {
    "id": "9I2JhKp2q21q"
   },
   "source": [
    "## **2.1 Data preparation**\n",
    "\n",
    "**What is ChEMBL** [4]\n",
    "\n",
    "ChEMBL is a manually curated database of bioactive molecules with drug-like properties. It provides information on the biological activities of compounds, especially focusing on their interactions with various biological targets, such as proteins or receptors. ChEMBL is widely used in cheminformatics and drug discovery research for retrieving bioactivity data, such as half-maximal inhibitory concentration (IC50), binding affinity (Ki), and effective concentration (EC50), among others.\n",
    "<br><br>\n",
    "\n",
    "**Key Features of ChEMBL:**\n",
    "\n",
    "Bioactivity Data: ChEMBL provides information on the bioactivity of small\n",
    "\n",
    "1.  Molecules against biological targets. This data includes values like IC50, Ki, EC50, and more.\n",
    "\n",
    "2.  Drug-Like Molecules: The database contains chemical compounds, including those that are drug-like, which have been tested in various assays and reported in the scientific literature.\n",
    "\n",
    "3.  Biological Targets: ChEMBL provides data on the biological targets of the compounds, including proteins, enzymes, receptors, and more.\n",
    "\n",
    "4.  Public and Open Access: ChEMBL is open-access and is maintained by the European Bioinformatics Institute (EMBL-EBI).\n",
    "<br><br>\n",
    "\n",
    "**Understanding Bioactivity Data in ChEMBL:**\n",
    "\n",
    "* **IC50**: The half-maximal inhibitory concentration (IC50) is a measure of a compound's potency. It represents the concentration at which a compound inhibits a biological process by 50%. Lower IC50 values indicate higher potency.\n",
    "\n",
    "* **pIC50**: The pIC50 is a logarithmic transformation of IC50 for easier comparison. It is calculated as:\n",
    "\n",
    "$$pIC50 = -\\log_{10}(\\text{IC50 in molar units})$$\n",
    "<br><br>\n",
    "\n",
    "**ChEMBL User Guide Video**\n",
    "\n",
    "-- EMBL-EBI Webinar A guide to exploring drug like compounds and their biological targets using ChEMBL: [https://www.youtube.com/watch?v=Yi8RllYseS8&t=648s]\n",
    "\n",
    "A guide to accessing ChEMBL and UniChem through an API [https://www.youtube.com/watch?v=6GOU_7Doajw]\n"
   ]
  },
  {
   "cell_type": "markdown",
   "metadata": {
    "id": "qioGfMNeshRT"
   },
   "source": [
    "### Step 1: Install Reqired Libraries\n",
    "First, install the necessary Python libraires"
   ]
  },
  {
   "cell_type": "code",
   "execution_count": 1,
   "metadata": {
    "colab": {
     "base_uri": "https://localhost:8080/"
    },
    "executionInfo": {
     "elapsed": 41232,
     "status": "ok",
     "timestamp": 1730339088149,
     "user": {
      "displayName": "Keyuan Li",
      "userId": "10499908926469804439"
     },
     "user_tz": 420
    },
    "id": "tJG2VQUQuTp7",
    "outputId": "0d4f0fe4-acc9-481b-9ed1-cea8a0074947"
   },
   "outputs": [
    {
     "name": "stdout",
     "output_type": "stream",
     "text": [
      "\u001b[2K   \u001b[90m━━━━━━━━━━━━━━━━━━━━━━━━━━━━━━━━━━━━━━━━\u001b[0m \u001b[32m55.2/55.2 kB\u001b[0m \u001b[31m1.6 MB/s\u001b[0m eta \u001b[36m0:00:00\u001b[0m\n",
      "\u001b[2K   \u001b[90m━━━━━━━━━━━━━━━━━━━━━━━━━━━━━━━━━━━━━━━━\u001b[0m \u001b[32m29.4/29.4 MB\u001b[0m \u001b[31m22.6 MB/s\u001b[0m eta \u001b[36m0:00:00\u001b[0m\n",
      "\u001b[2K   \u001b[90m━━━━━━━━━━━━━━━━━━━━━━━━━━━━━━━━━━━━━━━━\u001b[0m \u001b[32m61.4/61.4 kB\u001b[0m \u001b[31m2.8 MB/s\u001b[0m eta \u001b[36m0:00:00\u001b[0m\n",
      "\u001b[2K   \u001b[90m━━━━━━━━━━━━━━━━━━━━━━━━━━━━━━━━━━━━━━━━\u001b[0m \u001b[32m66.4/66.4 kB\u001b[0m \u001b[31m3.0 MB/s\u001b[0m eta \u001b[36m0:00:00\u001b[0m\n",
      "\u001b[?25h"
     ]
    }
   ],
   "source": [
    "# Install necessary packages\n",
    "!pip install -q chembl_webresource_client rdkit-pypi keras tensorflow matplotlib\n",
    "import pandas as pd\n",
    "from chembl_webresource_client.new_client import new_client\n",
    "from rdkit import Chem\n",
    "from rdkit.Chem import AllChem, DataStructs\n",
    "from sklearn.model_selection import train_test_split\n",
    "from keras.models import Sequential\n",
    "from keras.layers import Dense\n",
    "from keras.optimizers import Adam\n",
    "import matplotlib.pyplot as plt"
   ]
  },
  {
   "cell_type": "markdown",
   "metadata": {
    "id": "EiQ6PxG7uMLU"
   },
   "source": [
    "### Step 2: Retrieve Bioactivity Data from ChEMBL API\n",
    "\n",
    "We can use the ChEMBL API to search for bioactivity data based on a target (e.g., EGFR). And then the target can be retrieved using the new_client.target search.\n",
    "\n",
    "Here, we search for the EGFR target and retrieve IC50 values for bioactivities related to this target."
   ]
  },
  {
   "cell_type": "code",
   "execution_count": 2,
   "metadata": {
    "colab": {
     "base_uri": "https://localhost:8080/"
    },
    "executionInfo": {
     "elapsed": 134150,
     "status": "ok",
     "timestamp": 1730339225936,
     "user": {
      "displayName": "Keyuan Li",
      "userId": "10499908926469804439"
     },
     "user_tz": 420
    },
    "id": "soXB2pkIuvRf",
    "outputId": "6a7ccc05-6749-4f33-e634-e7c41f261bc1"
   },
   "outputs": [
    {
     "name": "stdout",
     "output_type": "stream",
     "text": [
      "  action_type activity_comment  activity_id activity_properties  \\\n",
      "0        None             None       105368                  []   \n",
      "1        None             None       108760                  []   \n",
      "2        None             None       108770                  []   \n",
      "3        None             None       108782                  []   \n",
      "4        None             None       115395                  []   \n",
      "\n",
      "  assay_chembl_id                                  assay_description  \\\n",
      "0    CHEMBL759452  In vitro binding affinity against human peroxi...   \n",
      "1    CHEMBL759452  In vitro binding affinity against human peroxi...   \n",
      "2    CHEMBL759452  In vitro binding affinity against human peroxi...   \n",
      "3    CHEMBL759452  In vitro binding affinity against human peroxi...   \n",
      "4    CHEMBL759452  In vitro binding affinity against human peroxi...   \n",
      "\n",
      "  assay_type assay_variant_accession assay_variant_mutation bao_endpoint  ...  \\\n",
      "0          B                    None                   None  BAO_0000190  ...   \n",
      "1          B                    None                   None  BAO_0000190  ...   \n",
      "2          B                    None                   None  BAO_0000190  ...   \n",
      "3          B                    None                   None  BAO_0000190  ...   \n",
      "4          B                    None                   None  BAO_0000190  ...   \n",
      "\n",
      "  target_organism                                  target_pref_name  \\\n",
      "0    Homo sapiens  Peroxisome proliferator-activated receptor gamma   \n",
      "1    Homo sapiens  Peroxisome proliferator-activated receptor gamma   \n",
      "2    Homo sapiens  Peroxisome proliferator-activated receptor gamma   \n",
      "3    Homo sapiens  Peroxisome proliferator-activated receptor gamma   \n",
      "4    Homo sapiens  Peroxisome proliferator-activated receptor gamma   \n",
      "\n",
      "  target_tax_id text_value  toid  type units    uo_units upper_value  value  \n",
      "0          9606       None  None  IC50    uM  UO_0000065        None  0.291  \n",
      "1          9606       None  None  IC50    uM  UO_0000065        None   0.17  \n",
      "2          9606       None  None  IC50    uM  UO_0000065        None  0.073  \n",
      "3          9606       None  None  IC50    uM  UO_0000065        None   0.25  \n",
      "4          9606       None  None  IC50    uM  UO_0000065        None  0.195  \n",
      "\n",
      "[5 rows x 46 columns]\n"
     ]
    }
   ],
   "source": [
    "# Retrieve bioactivity data for target CHEMBL235\n",
    "target = new_client.target\n",
    "activity = new_client.activity\n",
    "\n",
    "# Fetch bioactivity data for the target CHEMBL235\n",
    "activities = activity.filter(target_chembl_id=\"CHEMBL235\").filter(standard_type=\"IC50\")\n",
    "\n",
    "# Convert to pandas DataFrame\n",
    "activity_df = pd.DataFrame(activities)\n",
    "\n",
    "# Check the first few rows of the data\n",
    "print(activity_df.head())"
   ]
  },
  {
   "cell_type": "markdown",
   "metadata": {
    "id": "ETgTHx79u0zZ"
   },
   "source": [
    "### Step 3: Data Processing\n",
    "\n",
    "Now, we need to clean the dataset and convert IC50 values into pIC50 (which is the negative logarithm of the IC50 values). Additionally, we'll calculate molecular descriptors for the molecules using RDKit."
   ]
  },
  {
   "cell_type": "code",
   "execution_count": 3,
   "metadata": {
    "colab": {
     "base_uri": "https://localhost:8080/"
    },
    "executionInfo": {
     "elapsed": 262,
     "status": "ok",
     "timestamp": 1730339252533,
     "user": {
      "displayName": "Keyuan Li",
      "userId": "10499908926469804439"
     },
     "user_tz": 420
    },
    "id": "pV0TJlklvAVc",
    "outputId": "a8446215-c8c1-4982-8920-459711acf393"
   },
   "outputs": [
    {
     "name": "stdout",
     "output_type": "stream",
     "text": [
      "  action_type activity_comment  activity_id activity_properties  \\\n",
      "0        None             None       105368                  []   \n",
      "1        None             None       108760                  []   \n",
      "2        None             None       108770                  []   \n",
      "3        None             None       108782                  []   \n",
      "4        None             None       115395                  []   \n",
      "\n",
      "  assay_chembl_id                                  assay_description  \\\n",
      "0    CHEMBL759452  In vitro binding affinity against human peroxi...   \n",
      "1    CHEMBL759452  In vitro binding affinity against human peroxi...   \n",
      "2    CHEMBL759452  In vitro binding affinity against human peroxi...   \n",
      "3    CHEMBL759452  In vitro binding affinity against human peroxi...   \n",
      "4    CHEMBL759452  In vitro binding affinity against human peroxi...   \n",
      "\n",
      "  assay_type assay_variant_accession assay_variant_mutation bao_endpoint  ...  \\\n",
      "0          B                    None                   None  BAO_0000190  ...   \n",
      "1          B                    None                   None  BAO_0000190  ...   \n",
      "2          B                    None                   None  BAO_0000190  ...   \n",
      "3          B                    None                   None  BAO_0000190  ...   \n",
      "4          B                    None                   None  BAO_0000190  ...   \n",
      "\n",
      "                                   target_pref_name target_tax_id text_value  \\\n",
      "0  Peroxisome proliferator-activated receptor gamma          9606       None   \n",
      "1  Peroxisome proliferator-activated receptor gamma          9606       None   \n",
      "2  Peroxisome proliferator-activated receptor gamma          9606       None   \n",
      "3  Peroxisome proliferator-activated receptor gamma          9606       None   \n",
      "4  Peroxisome proliferator-activated receptor gamma          9606       None   \n",
      "\n",
      "   toid  type units    uo_units  upper_value  value bioactivity_class  \n",
      "0  None  IC50    uM  UO_0000065         None  0.291                 1  \n",
      "1  None  IC50    uM  UO_0000065         None   0.17                 1  \n",
      "2  None  IC50    uM  UO_0000065         None  0.073                 1  \n",
      "3  None  IC50    uM  UO_0000065         None   0.25                 1  \n",
      "4  None  IC50    uM  UO_0000065         None  0.195                 1  \n",
      "\n",
      "[5 rows x 47 columns]\n"
     ]
    },
    {
     "name": "stderr",
     "output_type": "stream",
     "text": [
      "<ipython-input-3-02394d104f79>:8: SettingWithCopyWarning: \n",
      "A value is trying to be set on a copy of a slice from a DataFrame.\n",
      "Try using .loc[row_indexer,col_indexer] = value instead\n",
      "\n",
      "See the caveats in the documentation: https://pandas.pydata.org/pandas-docs/stable/user_guide/indexing.html#returning-a-view-versus-a-copy\n",
      "  activity_df['bioactivity_class'] = activity_df['standard_value'].apply(lambda x: 1 if float(x) < threshold else 0)\n"
     ]
    }
   ],
   "source": [
    "# Filter out rows where 'standard_value' is None or NaN\n",
    "activity_df = activity_df[activity_df['standard_value'].notna()]\n",
    "\n",
    "# Define a threshold for bioactivity classification (e.g., 1000 nM for IC50)\n",
    "threshold = 1000  # threshold for bioactivity (nM)\n",
    "\n",
    "# Convert 'standard_value' to float and apply the threshold for classification\n",
    "activity_df['bioactivity_class'] = activity_df['standard_value'].apply(lambda x: 1 if float(x) < threshold else 0)\n",
    "\n",
    "# Print the first few rows to check\n",
    "print(activity_df.head())"
   ]
  },
  {
   "cell_type": "code",
   "execution_count": 4,
   "metadata": {
    "colab": {
     "base_uri": "https://localhost:8080/"
    },
    "executionInfo": {
     "elapsed": 253,
     "status": "ok",
     "timestamp": 1730339255806,
     "user": {
      "displayName": "Keyuan Li",
      "userId": "10499908926469804439"
     },
     "user_tz": 420
    },
    "id": "fdwP9Oq2dzyx",
    "outputId": "9a26b8ae-0dfe-4220-9076-80bdf82df367"
   },
   "outputs": [
    {
     "name": "stdout",
     "output_type": "stream",
     "text": [
      "bioactivity_class\n",
      "1    1269\n",
      "0     892\n",
      "Name: count, dtype: int64\n",
      "bioactivity_class\n",
      "1    58.722814\n",
      "0    41.277186\n",
      "Name: proportion, dtype: float64\n"
     ]
    }
   ],
   "source": [
    "# Check label distribution\n",
    "label_distribution = activity_df['bioactivity_class'].value_counts()\n",
    "\n",
    "# Print the distribution of the labels\n",
    "print(label_distribution)\n",
    "\n",
    "# Optionally, display the percentage of each class\n",
    "label_percentage = activity_df['bioactivity_class'].value_counts(normalize=True) * 100\n",
    "print(label_percentage)"
   ]
  },
  {
   "cell_type": "markdown",
   "metadata": {
    "id": "ii3DzFhyrNd5"
   },
   "source": [
    "## **2.2 Descriptors Calculation**\n",
    "\n",
    "Molecular descriptors describe the structural and chemical properties of the molecules. We will use RDKit to compute them."
   ]
  },
  {
   "cell_type": "code",
   "execution_count": 5,
   "metadata": {
    "colab": {
     "base_uri": "https://localhost:8080/"
    },
    "executionInfo": {
     "elapsed": 5806,
     "status": "ok",
     "timestamp": 1730339263273,
     "user": {
      "displayName": "Keyuan Li",
      "userId": "10499908926469804439"
     },
     "user_tz": 420
    },
    "id": "JeW8X8HVenEE",
    "outputId": "12520508-1ec0-46b6-b12f-1ded9918b863"
   },
   "outputs": [
    {
     "name": "stdout",
     "output_type": "stream",
     "text": [
      "   0     1     2     3     4     5     6     7     8     9     ...  2038  \\\n",
      "0   0.0   1.0   0.0   0.0   1.0   0.0   0.0   0.0   0.0   0.0  ...   0.0   \n",
      "1   0.0   1.0   0.0   0.0   1.0   0.0   0.0   0.0   0.0   0.0  ...   0.0   \n",
      "2   0.0   0.0   0.0   0.0   1.0   0.0   0.0   0.0   0.0   0.0  ...   0.0   \n",
      "3   0.0   0.0   0.0   0.0   0.0   0.0   0.0   0.0   0.0   0.0  ...   0.0   \n",
      "4   0.0   0.0   0.0   0.0   1.0   0.0   0.0   0.0   0.0   0.0  ...   0.0   \n",
      "\n",
      "   2039  2040  2041  2042  2043  2044  2045  2046  2047  \n",
      "0   0.0   0.0   0.0   0.0   0.0   0.0   0.0   0.0   0.0  \n",
      "1   0.0   0.0   0.0   0.0   0.0   0.0   0.0   0.0   0.0  \n",
      "2   0.0   0.0   0.0   0.0   0.0   0.0   0.0   0.0   0.0  \n",
      "3   0.0   0.0   0.0   0.0   0.0   0.0   0.0   0.0   0.0  \n",
      "4   0.0   0.0   0.0   0.0   0.0   0.0   0.0   0.0   0.0  \n",
      "\n",
      "[5 rows x 2048 columns]\n",
      "0    1\n",
      "1    1\n",
      "2    1\n",
      "3    1\n",
      "4    1\n",
      "dtype: int64\n"
     ]
    }
   ],
   "source": [
    "import numpy as np\n",
    "\n",
    "# Extract SMILES strings and bioactivity labels\n",
    "smiles_list = activity_df['canonical_smiles'].tolist()\n",
    "labels = activity_df['bioactivity_class'].tolist()\n",
    "\n",
    "# Generate Morgan fingerprints and store them as NumPy arrays\n",
    "morgan_fps = []\n",
    "for smiles in smiles_list:\n",
    "    mol = Chem.MolFromSmiles(smiles)\n",
    "    if mol:\n",
    "        fp = AllChem.GetMorganFingerprintAsBitVect(mol, 2, nBits=2048)\n",
    "        arr = np.zeros((1,))                        # Initialize a NumPy array\n",
    "        DataStructs.ConvertToNumpyArray(fp, arr)    # convert the computed fp to array\n",
    "        morgan_fps.append(arr)                      # Add arr to our morgan_fps\n",
    "\n",
    "# Convert the list of NumPy arrays to a DataFrame\n",
    "X = pd.DataFrame(morgan_fps)\n",
    "y = pd.Series(labels)\n",
    "\n",
    "print(X.head())\n",
    "print(y.head())"
   ]
  },
  {
   "cell_type": "markdown",
   "metadata": {
    "id": "Yd2fjAN1rpEv"
   },
   "source": [
    "## **2.3 Model Building**"
   ]
  },
  {
   "cell_type": "markdown",
   "metadata": {
    "id": "09nYWuOxft52"
   },
   "source": [
    "### Step 1: Splitting the Data into Training and Test Sets\n",
    "\n",
    "We now define the features (molecular descriptors) and the target variable (pIC50 values), then split the dataset into training and test sets."
   ]
  },
  {
   "cell_type": "code",
   "execution_count": 6,
   "metadata": {
    "executionInfo": {
     "elapsed": 227,
     "status": "ok",
     "timestamp": 1730339287495,
     "user": {
      "displayName": "Keyuan Li",
      "userId": "10499908926469804439"
     },
     "user_tz": 420
    },
    "id": "Rm0T2v6Kf1Ss"
   },
   "outputs": [],
   "source": [
    "# Split the data into training and test sets\n",
    "X_train, X_test, y_train, y_test = train_test_split(X, y, test_size=0.2, random_state=42)"
   ]
  },
  {
   "cell_type": "markdown",
   "metadata": {
    "id": "gRSH_-V3f4Gg"
   },
   "source": [
    "### Step 2: Building a QSAR Model\n",
    "\n",
    "We can now using the neural network to build QSAR model"
   ]
  },
  {
   "cell_type": "code",
   "execution_count": 7,
   "metadata": {
    "colab": {
     "base_uri": "https://localhost:8080/"
    },
    "executionInfo": {
     "elapsed": 39800,
     "status": "ok",
     "timestamp": 1730339329897,
     "user": {
      "displayName": "Keyuan Li",
      "userId": "10499908926469804439"
     },
     "user_tz": 420
    },
    "id": "HIjWFc3PgAkD",
    "outputId": "d881d457-789b-4e65-9da1-95386592643a"
   },
   "outputs": [
    {
     "name": "stdout",
     "output_type": "stream",
     "text": [
      "Epoch 1/50\n"
     ]
    },
    {
     "name": "stderr",
     "output_type": "stream",
     "text": [
      "/usr/local/lib/python3.10/dist-packages/keras/src/layers/core/dense.py:87: UserWarning: Do not pass an `input_shape`/`input_dim` argument to a layer. When using Sequential models, prefer using an `Input(shape)` object as the first layer in the model instead.\n",
      "  super().__init__(activity_regularizer=activity_regularizer, **kwargs)\n"
     ]
    },
    {
     "name": "stdout",
     "output_type": "stream",
     "text": [
      "\u001b[1m54/54\u001b[0m \u001b[32m━━━━━━━━━━━━━━━━━━━━\u001b[0m\u001b[37m\u001b[0m \u001b[1m2s\u001b[0m 13ms/step - accuracy: 0.7182 - loss: 0.5483 - val_accuracy: 0.8406 - val_loss: 0.3795\n",
      "Epoch 2/50\n",
      "\u001b[1m54/54\u001b[0m \u001b[32m━━━━━━━━━━━━━━━━━━━━\u001b[0m\u001b[37m\u001b[0m \u001b[1m1s\u001b[0m 10ms/step - accuracy: 0.8862 - loss: 0.2813 - val_accuracy: 0.8499 - val_loss: 0.3426\n",
      "Epoch 3/50\n",
      "\u001b[1m54/54\u001b[0m \u001b[32m━━━━━━━━━━━━━━━━━━━━\u001b[0m\u001b[37m\u001b[0m \u001b[1m1s\u001b[0m 10ms/step - accuracy: 0.9119 - loss: 0.2143 - val_accuracy: 0.8499 - val_loss: 0.3236\n",
      "Epoch 4/50\n",
      "\u001b[1m54/54\u001b[0m \u001b[32m━━━━━━━━━━━━━━━━━━━━\u001b[0m\u001b[37m\u001b[0m \u001b[1m1s\u001b[0m 10ms/step - accuracy: 0.9285 - loss: 0.1782 - val_accuracy: 0.8314 - val_loss: 0.3885\n",
      "Epoch 5/50\n",
      "\u001b[1m54/54\u001b[0m \u001b[32m━━━━━━━━━━━━━━━━━━━━\u001b[0m\u001b[37m\u001b[0m \u001b[1m1s\u001b[0m 10ms/step - accuracy: 0.9574 - loss: 0.1161 - val_accuracy: 0.8568 - val_loss: 0.3895\n",
      "Epoch 6/50\n",
      "\u001b[1m54/54\u001b[0m \u001b[32m━━━━━━━━━━━━━━━━━━━━\u001b[0m\u001b[37m\u001b[0m \u001b[1m1s\u001b[0m 10ms/step - accuracy: 0.9448 - loss: 0.1262 - val_accuracy: 0.8499 - val_loss: 0.4554\n",
      "Epoch 7/50\n",
      "\u001b[1m54/54\u001b[0m \u001b[32m━━━━━━━━━━━━━━━━━━━━\u001b[0m\u001b[37m\u001b[0m \u001b[1m1s\u001b[0m 10ms/step - accuracy: 0.9622 - loss: 0.0970 - val_accuracy: 0.8453 - val_loss: 0.3992\n",
      "Epoch 8/50\n",
      "\u001b[1m54/54\u001b[0m \u001b[32m━━━━━━━━━━━━━━━━━━━━\u001b[0m\u001b[37m\u001b[0m \u001b[1m1s\u001b[0m 15ms/step - accuracy: 0.9643 - loss: 0.0954 - val_accuracy: 0.8591 - val_loss: 0.4734\n",
      "Epoch 9/50\n",
      "\u001b[1m54/54\u001b[0m \u001b[32m━━━━━━━━━━━━━━━━━━━━\u001b[0m\u001b[37m\u001b[0m \u001b[1m1s\u001b[0m 18ms/step - accuracy: 0.9666 - loss: 0.0744 - val_accuracy: 0.8453 - val_loss: 0.5137\n",
      "Epoch 10/50\n",
      "\u001b[1m54/54\u001b[0m \u001b[32m━━━━━━━━━━━━━━━━━━━━\u001b[0m\u001b[37m\u001b[0m \u001b[1m1s\u001b[0m 20ms/step - accuracy: 0.9595 - loss: 0.0908 - val_accuracy: 0.8430 - val_loss: 0.6007\n",
      "Epoch 11/50\n",
      "\u001b[1m54/54\u001b[0m \u001b[32m━━━━━━━━━━━━━━━━━━━━\u001b[0m\u001b[37m\u001b[0m \u001b[1m1s\u001b[0m 18ms/step - accuracy: 0.9662 - loss: 0.0641 - val_accuracy: 0.8568 - val_loss: 0.5041\n",
      "Epoch 12/50\n",
      "\u001b[1m54/54\u001b[0m \u001b[32m━━━━━━━━━━━━━━━━━━━━\u001b[0m\u001b[37m\u001b[0m \u001b[1m1s\u001b[0m 18ms/step - accuracy: 0.9727 - loss: 0.0574 - val_accuracy: 0.8522 - val_loss: 0.6215\n",
      "Epoch 13/50\n",
      "\u001b[1m54/54\u001b[0m \u001b[32m━━━━━━━━━━━━━━━━━━━━\u001b[0m\u001b[37m\u001b[0m \u001b[1m1s\u001b[0m 15ms/step - accuracy: 0.9733 - loss: 0.0502 - val_accuracy: 0.8545 - val_loss: 0.6615\n",
      "Epoch 14/50\n",
      "\u001b[1m54/54\u001b[0m \u001b[32m━━━━━━━━━━━━━━━━━━━━\u001b[0m\u001b[37m\u001b[0m \u001b[1m1s\u001b[0m 10ms/step - accuracy: 0.9785 - loss: 0.0506 - val_accuracy: 0.8522 - val_loss: 0.5708\n",
      "Epoch 15/50\n",
      "\u001b[1m54/54\u001b[0m \u001b[32m━━━━━━━━━━━━━━━━━━━━\u001b[0m\u001b[37m\u001b[0m \u001b[1m1s\u001b[0m 10ms/step - accuracy: 0.9735 - loss: 0.0464 - val_accuracy: 0.8545 - val_loss: 0.6658\n",
      "Epoch 16/50\n",
      "\u001b[1m54/54\u001b[0m \u001b[32m━━━━━━━━━━━━━━━━━━━━\u001b[0m\u001b[37m\u001b[0m \u001b[1m1s\u001b[0m 10ms/step - accuracy: 0.9738 - loss: 0.0555 - val_accuracy: 0.8476 - val_loss: 0.6975\n",
      "Epoch 17/50\n",
      "\u001b[1m54/54\u001b[0m \u001b[32m━━━━━━━━━━━━━━━━━━━━\u001b[0m\u001b[37m\u001b[0m \u001b[1m1s\u001b[0m 10ms/step - accuracy: 0.9769 - loss: 0.0497 - val_accuracy: 0.8568 - val_loss: 0.7514\n",
      "Epoch 18/50\n",
      "\u001b[1m54/54\u001b[0m \u001b[32m━━━━━━━━━━━━━━━━━━━━\u001b[0m\u001b[37m\u001b[0m \u001b[1m1s\u001b[0m 10ms/step - accuracy: 0.9693 - loss: 0.0479 - val_accuracy: 0.8522 - val_loss: 0.7392\n",
      "Epoch 19/50\n",
      "\u001b[1m54/54\u001b[0m \u001b[32m━━━━━━━━━━━━━━━━━━━━\u001b[0m\u001b[37m\u001b[0m \u001b[1m1s\u001b[0m 10ms/step - accuracy: 0.9813 - loss: 0.0430 - val_accuracy: 0.8545 - val_loss: 0.7762\n",
      "Epoch 20/50\n",
      "\u001b[1m54/54\u001b[0m \u001b[32m━━━━━━━━━━━━━━━━━━━━\u001b[0m\u001b[37m\u001b[0m \u001b[1m1s\u001b[0m 9ms/step - accuracy: 0.9762 - loss: 0.0469 - val_accuracy: 0.8476 - val_loss: 0.7713\n",
      "Epoch 21/50\n",
      "\u001b[1m54/54\u001b[0m \u001b[32m━━━━━━━━━━━━━━━━━━━━\u001b[0m\u001b[37m\u001b[0m \u001b[1m1s\u001b[0m 10ms/step - accuracy: 0.9767 - loss: 0.0430 - val_accuracy: 0.8522 - val_loss: 0.8472\n",
      "Epoch 22/50\n",
      "\u001b[1m54/54\u001b[0m \u001b[32m━━━━━━━━━━━━━━━━━━━━\u001b[0m\u001b[37m\u001b[0m \u001b[1m1s\u001b[0m 10ms/step - accuracy: 0.9777 - loss: 0.0522 - val_accuracy: 0.8568 - val_loss: 0.7118\n",
      "Epoch 23/50\n",
      "\u001b[1m54/54\u001b[0m \u001b[32m━━━━━━━━━━━━━━━━━━━━\u001b[0m\u001b[37m\u001b[0m \u001b[1m1s\u001b[0m 10ms/step - accuracy: 0.9709 - loss: 0.0544 - val_accuracy: 0.8591 - val_loss: 0.7003\n",
      "Epoch 24/50\n",
      "\u001b[1m54/54\u001b[0m \u001b[32m━━━━━━━━━━━━━━━━━━━━\u001b[0m\u001b[37m\u001b[0m \u001b[1m1s\u001b[0m 9ms/step - accuracy: 0.9721 - loss: 0.0640 - val_accuracy: 0.8637 - val_loss: 0.5685\n",
      "Epoch 25/50\n",
      "\u001b[1m54/54\u001b[0m \u001b[32m━━━━━━━━━━━━━━━━━━━━\u001b[0m\u001b[37m\u001b[0m \u001b[1m1s\u001b[0m 10ms/step - accuracy: 0.9739 - loss: 0.0488 - val_accuracy: 0.8499 - val_loss: 0.6379\n",
      "Epoch 26/50\n",
      "\u001b[1m54/54\u001b[0m \u001b[32m━━━━━━━━━━━━━━━━━━━━\u001b[0m\u001b[37m\u001b[0m \u001b[1m1s\u001b[0m 10ms/step - accuracy: 0.9818 - loss: 0.0363 - val_accuracy: 0.8684 - val_loss: 0.6802\n",
      "Epoch 27/50\n",
      "\u001b[1m54/54\u001b[0m \u001b[32m━━━━━━━━━━━━━━━━━━━━\u001b[0m\u001b[37m\u001b[0m \u001b[1m1s\u001b[0m 10ms/step - accuracy: 0.9739 - loss: 0.0442 - val_accuracy: 0.8545 - val_loss: 0.6614\n",
      "Epoch 28/50\n",
      "\u001b[1m54/54\u001b[0m \u001b[32m━━━━━━━━━━━━━━━━━━━━\u001b[0m\u001b[37m\u001b[0m \u001b[1m1s\u001b[0m 10ms/step - accuracy: 0.9804 - loss: 0.0450 - val_accuracy: 0.8430 - val_loss: 0.7352\n",
      "Epoch 29/50\n",
      "\u001b[1m54/54\u001b[0m \u001b[32m━━━━━━━━━━━━━━━━━━━━\u001b[0m\u001b[37m\u001b[0m \u001b[1m1s\u001b[0m 12ms/step - accuracy: 0.9761 - loss: 0.0501 - val_accuracy: 0.8268 - val_loss: 0.8104\n",
      "Epoch 30/50\n",
      "\u001b[1m54/54\u001b[0m \u001b[32m━━━━━━━━━━━━━━━━━━━━\u001b[0m\u001b[37m\u001b[0m \u001b[1m1s\u001b[0m 15ms/step - accuracy: 0.9706 - loss: 0.0501 - val_accuracy: 0.8568 - val_loss: 0.7494\n",
      "Epoch 31/50\n",
      "\u001b[1m54/54\u001b[0m \u001b[32m━━━━━━━━━━━━━━━━━━━━\u001b[0m\u001b[37m\u001b[0m \u001b[1m1s\u001b[0m 14ms/step - accuracy: 0.9815 - loss: 0.0463 - val_accuracy: 0.8637 - val_loss: 0.7265\n",
      "Epoch 32/50\n",
      "\u001b[1m54/54\u001b[0m \u001b[32m━━━━━━━━━━━━━━━━━━━━\u001b[0m\u001b[37m\u001b[0m \u001b[1m1s\u001b[0m 9ms/step - accuracy: 0.9804 - loss: 0.0362 - val_accuracy: 0.8684 - val_loss: 0.7598\n",
      "Epoch 33/50\n",
      "\u001b[1m54/54\u001b[0m \u001b[32m━━━━━━━━━━━━━━━━━━━━\u001b[0m\u001b[37m\u001b[0m \u001b[1m1s\u001b[0m 10ms/step - accuracy: 0.9756 - loss: 0.0401 - val_accuracy: 0.8637 - val_loss: 0.8330\n",
      "Epoch 34/50\n",
      "\u001b[1m54/54\u001b[0m \u001b[32m━━━━━━━━━━━━━━━━━━━━\u001b[0m\u001b[37m\u001b[0m \u001b[1m1s\u001b[0m 10ms/step - accuracy: 0.9816 - loss: 0.0344 - val_accuracy: 0.8637 - val_loss: 0.8021\n",
      "Epoch 35/50\n",
      "\u001b[1m54/54\u001b[0m \u001b[32m━━━━━━━━━━━━━━━━━━━━\u001b[0m\u001b[37m\u001b[0m \u001b[1m1s\u001b[0m 10ms/step - accuracy: 0.9787 - loss: 0.0329 - val_accuracy: 0.8637 - val_loss: 0.8744\n",
      "Epoch 36/50\n",
      "\u001b[1m54/54\u001b[0m \u001b[32m━━━━━━━━━━━━━━━━━━━━\u001b[0m\u001b[37m\u001b[0m \u001b[1m1s\u001b[0m 10ms/step - accuracy: 0.9807 - loss: 0.0323 - val_accuracy: 0.8637 - val_loss: 0.9540\n",
      "Epoch 37/50\n",
      "\u001b[1m54/54\u001b[0m \u001b[32m━━━━━━━━━━━━━━━━━━━━\u001b[0m\u001b[37m\u001b[0m \u001b[1m1s\u001b[0m 10ms/step - accuracy: 0.9833 - loss: 0.0358 - val_accuracy: 0.8568 - val_loss: 0.7979\n",
      "Epoch 38/50\n",
      "\u001b[1m54/54\u001b[0m \u001b[32m━━━━━━━━━━━━━━━━━━━━\u001b[0m\u001b[37m\u001b[0m \u001b[1m1s\u001b[0m 11ms/step - accuracy: 0.9828 - loss: 0.0357 - val_accuracy: 0.8661 - val_loss: 0.9308\n",
      "Epoch 39/50\n",
      "\u001b[1m54/54\u001b[0m \u001b[32m━━━━━━━━━━━━━━━━━━━━\u001b[0m\u001b[37m\u001b[0m \u001b[1m1s\u001b[0m 10ms/step - accuracy: 0.9813 - loss: 0.0441 - val_accuracy: 0.8707 - val_loss: 0.9114\n",
      "Epoch 40/50\n",
      "\u001b[1m54/54\u001b[0m \u001b[32m━━━━━━━━━━━━━━━━━━━━\u001b[0m\u001b[37m\u001b[0m \u001b[1m1s\u001b[0m 10ms/step - accuracy: 0.9835 - loss: 0.0310 - val_accuracy: 0.8661 - val_loss: 0.9859\n",
      "Epoch 41/50\n",
      "\u001b[1m54/54\u001b[0m \u001b[32m━━━━━━━━━━━━━━━━━━━━\u001b[0m\u001b[37m\u001b[0m \u001b[1m1s\u001b[0m 9ms/step - accuracy: 0.9790 - loss: 0.0363 - val_accuracy: 0.8684 - val_loss: 0.9941\n",
      "Epoch 42/50\n",
      "\u001b[1m54/54\u001b[0m \u001b[32m━━━━━━━━━━━━━━━━━━━━\u001b[0m\u001b[37m\u001b[0m \u001b[1m1s\u001b[0m 9ms/step - accuracy: 0.9816 - loss: 0.0298 - val_accuracy: 0.8684 - val_loss: 0.9850\n",
      "Epoch 43/50\n",
      "\u001b[1m54/54\u001b[0m \u001b[32m━━━━━━━━━━━━━━━━━━━━\u001b[0m\u001b[37m\u001b[0m \u001b[1m1s\u001b[0m 10ms/step - accuracy: 0.9803 - loss: 0.0339 - val_accuracy: 0.8637 - val_loss: 1.0097\n",
      "Epoch 44/50\n",
      "\u001b[1m54/54\u001b[0m \u001b[32m━━━━━━━━━━━━━━━━━━━━\u001b[0m\u001b[37m\u001b[0m \u001b[1m1s\u001b[0m 9ms/step - accuracy: 0.9811 - loss: 0.0362 - val_accuracy: 0.8661 - val_loss: 0.9663\n",
      "Epoch 45/50\n",
      "\u001b[1m54/54\u001b[0m \u001b[32m━━━━━━━━━━━━━━━━━━━━\u001b[0m\u001b[37m\u001b[0m \u001b[1m1s\u001b[0m 10ms/step - accuracy: 0.9819 - loss: 0.0403 - val_accuracy: 0.8684 - val_loss: 1.0219\n",
      "Epoch 46/50\n",
      "\u001b[1m54/54\u001b[0m \u001b[32m━━━━━━━━━━━━━━━━━━━━\u001b[0m\u001b[37m\u001b[0m \u001b[1m1s\u001b[0m 9ms/step - accuracy: 0.9772 - loss: 0.0439 - val_accuracy: 0.8637 - val_loss: 1.0598\n",
      "Epoch 47/50\n",
      "\u001b[1m54/54\u001b[0m \u001b[32m━━━━━━━━━━━━━━━━━━━━\u001b[0m\u001b[37m\u001b[0m \u001b[1m1s\u001b[0m 12ms/step - accuracy: 0.9750 - loss: 0.0405 - val_accuracy: 0.8637 - val_loss: 1.0384\n",
      "Epoch 48/50\n",
      "\u001b[1m54/54\u001b[0m \u001b[32m━━━━━━━━━━━━━━━━━━━━\u001b[0m\u001b[37m\u001b[0m \u001b[1m1s\u001b[0m 14ms/step - accuracy: 0.9760 - loss: 0.0347 - val_accuracy: 0.8661 - val_loss: 1.0863\n",
      "Epoch 49/50\n",
      "\u001b[1m54/54\u001b[0m \u001b[32m━━━━━━━━━━━━━━━━━━━━\u001b[0m\u001b[37m\u001b[0m \u001b[1m1s\u001b[0m 14ms/step - accuracy: 0.9790 - loss: 0.0357 - val_accuracy: 0.8430 - val_loss: 1.2446\n",
      "Epoch 50/50\n",
      "\u001b[1m54/54\u001b[0m \u001b[32m━━━━━━━━━━━━━━━━━━━━\u001b[0m\u001b[37m\u001b[0m \u001b[1m1s\u001b[0m 9ms/step - accuracy: 0.9712 - loss: 0.0612 - val_accuracy: 0.8568 - val_loss: 0.9427\n"
     ]
    }
   ],
   "source": [
    "# Build a Neural Network Model for QSAR Classification\n",
    "model = Sequential() # build the sequential model\n",
    "model.add(Dense(256, input_dim=X_train.shape[1], activation='relu')) # add the input layer\n",
    "model.add(Dense(128, activation='relu'))\n",
    "model.add(Dense(64, activation='relu'))\n",
    "model.add(Dense(1, activation='sigmoid'))  # Binary classification output\n",
    "\n",
    "# Compile the model\n",
    "model.compile(loss='binary_crossentropy', optimizer=Adam(learning_rate=0.001), metrics=['accuracy'])\n",
    "history = model.fit(X_train, y_train, validation_data=(X_test, y_test), epochs=50, batch_size=32)"
   ]
  },
  {
   "cell_type": "markdown",
   "metadata": {
    "id": "qbHq0ifMsEyM"
   },
   "source": [
    "## **2.4 Model Validation and Testing**\n",
    "\n",
    "Finally, we evaluate the model by calculating the Mean Squared Error (MSE) and plotting the actual vs predicted pIC50 values."
   ]
  },
  {
   "cell_type": "code",
   "execution_count": 8,
   "metadata": {
    "colab": {
     "base_uri": "https://localhost:8080/"
    },
    "executionInfo": {
     "elapsed": 712,
     "status": "ok",
     "timestamp": 1730339342403,
     "user": {
      "displayName": "Keyuan Li",
      "userId": "10499908926469804439"
     },
     "user_tz": 420
    },
    "id": "8Mu3M5w6oL0H",
    "outputId": "135e6bf4-4027-4703-b4ce-0eb43eb083a5"
   },
   "outputs": [
    {
     "name": "stdout",
     "output_type": "stream",
     "text": [
      "\u001b[1m14/14\u001b[0m \u001b[32m━━━━━━━━━━━━━━━━━━━━\u001b[0m\u001b[37m\u001b[0m \u001b[1m0s\u001b[0m 3ms/step - accuracy: 0.8591 - loss: 1.0825 \n",
      "Test accuracy: 85.68%\n",
      "\u001b[1m14/14\u001b[0m \u001b[32m━━━━━━━━━━━━━━━━━━━━\u001b[0m\u001b[37m\u001b[0m \u001b[1m0s\u001b[0m 5ms/step\n",
      "Classification Report:\n",
      "              precision    recall  f1-score   support\n",
      "\n",
      "           0       0.83      0.80      0.82       174\n",
      "           1       0.87      0.89      0.88       259\n",
      "\n",
      "    accuracy                           0.86       433\n",
      "   macro avg       0.85      0.85      0.85       433\n",
      "weighted avg       0.86      0.86      0.86       433\n",
      "\n"
     ]
    }
   ],
   "source": [
    "# Evaluate the model\n",
    "from sklearn.metrics import classification_report, roc_curve, auc\n",
    "from sklearn.metrics import accuracy_score\n",
    "import matplotlib.pyplot as plt\n",
    "\n",
    "loss, accuracy = model.evaluate(X_test, y_test) # evaluate the trained model\n",
    "print(f\"Test accuracy: {accuracy * 100:.2f}%\")\n",
    "\n",
    "# After training and evaluating the model, let's predict on the test set\n",
    "y_pred = model.predict(X_test)\n",
    "y_pred = (y_pred > 0.5).astype(int)  # Convert probabilities to binary classification (0 or 1)\n",
    "\n",
    "# Step 1: Generate a Classification Report\n",
    "print(\"Classification Report:\")\n",
    "print(classification_report(y_test, y_pred))"
   ]
  },
  {
   "cell_type": "code",
   "execution_count": 9,
   "metadata": {
    "colab": {
     "base_uri": "https://localhost:8080/",
     "height": 489
    },
    "executionInfo": {
     "elapsed": 683,
     "status": "ok",
     "timestamp": 1730339345035,
     "user": {
      "displayName": "Keyuan Li",
      "userId": "10499908926469804439"
     },
     "user_tz": 420
    },
    "id": "c1DbJYQ9pZWl",
    "outputId": "12a8fa0e-688b-4446-cf5e-fb218af2b745"
   },
   "outputs": [
    {
     "name": "stdout",
     "output_type": "stream",
     "text": [
      "\u001b[1m14/14\u001b[0m \u001b[32m━━━━━━━━━━━━━━━━━━━━\u001b[0m\u001b[37m\u001b[0m \u001b[1m0s\u001b[0m 3ms/step \n"
     ]
    },
    {
     "data": {
      "image/png": "[encoded data removed]",
      "text/plain": [
       "<Figure size 640x480 with 1 Axes>"
      ]
     },
     "metadata": {},
     "output_type": "display_data"
    }
   ],
   "source": [
    "# Step 2: Calculate ROC Curve and AUC (Area Under the Curve)\n",
    "y_pred_prob = model.predict(X_test).ravel()  # Predicted probabilities\n",
    "fpr, tpr, thresholds = roc_curve(y_test, y_pred_prob)\n",
    "roc_auc = auc(fpr, tpr)\n",
    "\n",
    "# Step 3: Plot the ROC Curve\n",
    "plt.figure()\n",
    "plt.plot(fpr, tpr, label='ROC curve (area = %0.2f)' % roc_auc)\n",
    "plt.plot([0, 1], [0, 1], 'k--')  # Dashed diagonal line\n",
    "plt.xlim([0.0, 1.0])\n",
    "plt.ylim([0.0, 1.05])\n",
    "plt.xlabel('False Positive Rate')\n",
    "plt.ylabel('True Positive Rate')\n",
    "plt.title('Receiver Operating Characteristic (ROC)')\n",
    "plt.legend(loc=\"lower right\")\n",
    "plt.show()"
   ]
  },
  {
   "cell_type": "markdown",
   "metadata": {
    "id": "1Z35djgUFX2B"
   },
   "source": [
    "# **References**\n",
    "\n",
    "[1] Cherkasov A, Muratov EN, Fourches D, et al. QSAR Modeling: Where Have You Been? Where Are You Going To? Journal of medicinal chemistry. 2014;57(12):4977-5010. doi:10.1021/jm4004285\n",
    "\n",
    "[2] Schultz TW, Cronin MTD, Netzeva TI. The present status of QSAR in toxicology. Journal of molecular structure Theochem. 2003;622(1):23-38. doi:10.1016/S0166-1280(02)00615-2\n",
    "  \n",
    "[3] Vračko M. Chapter 10 - Mathematical (Structural) Descriptors in QSAR: Applications in Drug Design and Environmental Toxicology. In: Advances in Mathematical Chemistry and Applications. Elsevier Inc; 2015:222-250. doi:10.1016/B978-1-68108-198-4.50010-2\n",
    "\n",
    "[4] Zdrazil B, Felix E, Hunter F, et al. The ChEMBL Database in 2023: a drug discovery platform spanning multiple bioactivity data types and time periods. Nucleic acids research. 2024;52(D1):D1180-D1192. doi:10.1093/nar/gkad1004\n",
    "\n"
   ]
  }
 ],
 "metadata": {
  "colab": {
   "provenance": [],
   "toc_visible": true
  },
  "kernelspec": {
   "display_name": "Python 3",
   "name": "python3"
  },
  "language_info": {
   "name": "python"
  }
 },
 "nbformat": 4,
 "nbformat_minor": 0
}
